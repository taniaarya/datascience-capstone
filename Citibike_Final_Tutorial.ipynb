{
 "cells": [
  {
   "cell_type": "markdown",
   "metadata": {},
   "source": [
    "<img src=\"citibike_cover_photo.jpg\" alt=\"Drawing\" style=\"width: 550px; height: 300px\"/>\n",
    "<center>\n",
    "<h1 style=\"font-size:36px;\">Insert Creative Title Here</h1>\n",
    "<h4>Tania Arya and mpatel99</h4>\n",
    "<hr>\n",
    "<h1>Introduction</h1>\n",
    "</center>\n",
    "<body>\n",
    "<p>\n",
    "para 1\n",
    "<p>\n",
    "para 2\n",
    "<p>\n",
    "<hr>"
   ]
  },
  {
   "cell_type": "markdown",
   "metadata": {},
   "source": [
    "<center>\n",
    "<h1>Data Exploration</h1>\n",
    "</center>\n",
    "<body>\n",
    "<p>\n",
    "insert code\n",
    "<p>\n",
    "<hr>"
   ]
  },
  {
   "cell_type": "markdown",
   "metadata": {},
   "source": [
    "<center>\n",
    "<h1>Data Analysis</h1>\n",
    "</center>\n",
    "<body>\n",
    "<p>\n",
    "insert code\n",
    "<p>\n",
    "<hr>"
   ]
  },
  {
   "cell_type": "markdown",
   "metadata": {},
   "source": [
    "<center>\n",
    "<h1>Conclusion</h1>\n",
    "</center>\n",
    "<body>\n",
    "<p>\n",
    "insert code\n",
    "<p>\n",
    "<hr>"
   ]
  },
  {
   "cell_type": "code",
   "execution_count": null,
   "metadata": {},
   "outputs": [],
   "source": []
  }
 ],
 "metadata": {
  "kernelspec": {
   "display_name": "Python 3",
   "language": "python",
   "name": "python3"
  },
  "language_info": {
   "codemirror_mode": {
    "name": "ipython",
    "version": 3
   },
   "file_extension": ".py",
   "mimetype": "text/x-python",
   "name": "python",
   "nbconvert_exporter": "python",
   "pygments_lexer": "ipython3",
   "version": "3.7.9"
  }
 },
 "nbformat": 4,
 "nbformat_minor": 4
}
